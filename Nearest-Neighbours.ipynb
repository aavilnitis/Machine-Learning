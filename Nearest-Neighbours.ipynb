{
 "cells": [
  {
   "cell_type": "markdown",
   "id": "4cdeedd1",
   "metadata": {},
   "source": [
    "## 1 Import both Iris and ionsphere datasets\n",
    "\n",
    "### Important note: Functions are implemented seperately until section 5\n",
    "Until section 5 I implemented all functions seperately, as just regular python functions. They have to be executed in the right order or with the right dummy data to test them and see the results. \n",
    "\n",
    "In section 5 I create a conformal predictor object based on the Nearest Neighbour conformity measure given in the coursework specification. "
   ]
  },
  {
   "cell_type": "markdown",
   "id": "f3a4ac57",
   "metadata": {},
   "source": [
    "### Notes about datasets\n",
    "\n",
    "**Iris:**  \n",
    "Each sample has 4 features describing sepal length, sepal width, petal length, and petal width of an\n",
    "iris plant. There are three possible labels, Y = {0, 1, 2}.\n",
    "\n",
    "**Ionsphere:**  \n",
    "The file ionosphere.txt contains data collected by a radar system in Goose Bay, Labrador. This system consists of a co-phased array of 16 high-frequency antennas with a total transmitted power on the order of 6.4 kilowatts. Each line of this file represents one labelled sample with commaseparated features. The last number in the line describes the classification. “Good” (+1) radar returns are those showing evidence of some type of structure in the ionosphere. “Bad” (−1) returns are those that do not."
   ]
  },
  {
   "cell_type": "code",
   "execution_count": 8,
   "id": "41a3e1c2",
   "metadata": {},
   "outputs": [],
   "source": [
    "import numpy as np\n",
    "from sklearn.datasets import load_iris\n",
    "from sklearn.model_selection import train_test_split\n",
    "import matplotlib.pyplot as plt\n",
    "\n",
    "# Load iris dataset\n",
    "iris = load_iris()\n",
    "\n",
    "# Load ionsphere dataset\n",
    "samples_iono = np.genfromtxt(\"ionosphere.txt\", delimiter=\",\", usecols=np.arange(34)) # Extract ionsphere samples\n",
    "labels_iono = np.genfromtxt(\"ionosphere.txt\", delimiter=\",\", usecols=34, dtype='int') # Extract ionsphere int labels"
   ]
  },
  {
   "cell_type": "markdown",
   "id": "1f180b1e",
   "metadata": {},
   "source": [
    "## 2 Split the datasets into training/test sets"
   ]
  },
  {
   "cell_type": "code",
   "execution_count": 9,
   "id": "77bb9b05",
   "metadata": {},
   "outputs": [],
   "source": [
    "# Split the datasets into training, test samples and labels\n",
    "X_iono_train, X_iono_test, y_iono_train, y_iono_test = train_test_split(samples_iono, labels_iono, random_state=2708)\n",
    "X_iris_train, X_iris_test, y_iris_train, y_iris_test = train_test_split(iris['data'], iris['target'], random_state=2708)"
   ]
  },
  {
   "cell_type": "markdown",
   "id": "f056778f",
   "metadata": {},
   "source": [
    "### Notes and testing of the datasets"
   ]
  },
  {
   "cell_type": "code",
   "execution_count": 7,
   "id": "e28c4850",
   "metadata": {},
   "outputs": [
    {
     "name": "stdout",
     "output_type": "stream",
     "text": [
      "Iono training X:  (263, 34) Iono training y:  (263,) Iono test X:  (88, 34) Iono test y:  (88,)\n"
     ]
    }
   ],
   "source": [
    "print(\"Iono training X: \", X_iono_train.shape, \"Iono training y: \", y_iono_train.shape, \"Iono test X: \", X_iono_test.shape,\"Iono test y: \", y_iono_test.shape,)"
   ]
  },
  {
   "cell_type": "code",
   "execution_count": 79,
   "id": "4ac0def9",
   "metadata": {},
   "outputs": [
    {
     "name": "stdout",
     "output_type": "stream",
     "text": [
      "[[ 1.0000e+00  0.0000e+00  3.8521e-01 ...  3.1128e-01 -1.9066e-01\n",
      "   2.8794e-01]\n",
      " [ 1.0000e+00  0.0000e+00  8.1143e-01 ... -5.0000e-02  8.2143e-01\n",
      "  -1.5143e-01]\n",
      " [ 1.0000e+00  0.0000e+00  9.6071e-01 ... -1.5000e-04  5.2099e-01\n",
      "  -1.8200e-03]\n",
      " ...\n",
      " [ 0.0000e+00  0.0000e+00 -1.0000e+00 ...  0.0000e+00  0.0000e+00\n",
      "   0.0000e+00]\n",
      " [ 1.0000e+00  0.0000e+00  1.0000e+00 ... -6.3156e-01  1.0000e+00\n",
      "  -6.5935e-01]\n",
      " [ 1.0000e+00  0.0000e+00  9.5882e-01 ... -1.0797e-01  9.3144e-01\n",
      "  -6.8880e-02]]\n"
     ]
    }
   ],
   "source": [
    "print(X_iono_train)"
   ]
  },
  {
   "cell_type": "code",
   "execution_count": 8,
   "id": "c32cef7d",
   "metadata": {},
   "outputs": [
    {
     "name": "stdout",
     "output_type": "stream",
     "text": [
      "iris training X:  (112, 4) iris training y:  (112,) iris test X:  (38, 4) iris test y:  (38,)\n"
     ]
    }
   ],
   "source": [
    "print(\"iris training X: \", X_iris_train.shape, \"iris training y: \", y_iris_train.shape, \"iris test X: \", X_iris_test.shape,\"iris test y: \", y_iris_test.shape,)"
   ]
  },
  {
   "cell_type": "markdown",
   "id": "14528205",
   "metadata": {},
   "source": [
    "## 3 Implement the 1-NN method\n",
    "Implement the Nearest Neighbour method (i.e., the 1 Nearest Neighbours method). Run it on both datasets: train it on the training set and compute the number of errors it makes on the test set and the test error rate (the ratio of the number of errors to the size of the test set)."
   ]
  },
  {
   "cell_type": "markdown",
   "id": "978bb6c7",
   "metadata": {},
   "source": [
    "### 3.1 Implement euclidian distance function"
   ]
  },
  {
   "cell_type": "markdown",
   "id": "117a6601",
   "metadata": {},
   "source": [
    "Creating a python function that calculates the eulidian distance between two vectors that are passed as arguments."
   ]
  },
  {
   "cell_type": "code",
   "execution_count": 13,
   "id": "5297e244",
   "metadata": {},
   "outputs": [
    {
     "data": {
      "text/plain": [
       "8.0"
      ]
     },
     "execution_count": 13,
     "metadata": {},
     "output_type": "execute_result"
    }
   ],
   "source": [
    "import math\n",
    "def euclidian_distance(inst1, inst2):\n",
    "    v1 = np.array(inst1)\n",
    "    v2 = np.array(inst2)\n",
    "    variable_sum = 0\n",
    "    if(v1.shape == v2.shape):\n",
    "        for i in range(v1.shape[0]):\n",
    "            variable_sum += (v1[i] - v2[i])**2\n",
    "        return math.sqrt(variable_sum)\n",
    "    else:\n",
    "        return -1\n",
    "\n",
    "v1 = [1, 2, 3, 4]\n",
    "v2 = [5, 6, 7, 8]\n",
    "euclidian_distance(v1,v2)"
   ]
  },
  {
   "cell_type": "markdown",
   "id": "3d70b6d4",
   "metadata": {},
   "source": [
    "### 3.2 Implement 1-NN method"
   ]
  },
  {
   "cell_type": "markdown",
   "id": "7287669d",
   "metadata": {},
   "source": [
    "#### 3.2.1 Implement a method that returns an array of sample indices based on euclidian distance to test sample\n",
    "This function creates an array \"distances\", loads the euclidian distance from the test sample to each sample in the dataset and then creates a new array \"indices\", which at first is just an array of integers up to the value of the size of the dataset. When the distances have been calculated, the function uses bubble sort to sort the distances and doing so also sort the indices. The function returns an array of sorted indices based on euclidian distance to the test sample."
   ]
  },
  {
   "cell_type": "markdown",
   "id": "ceff0406",
   "metadata": {},
   "source": [
    "##### 3.2.1.1 Trying a method that returns all distances\n",
    "If this works as expected I'm going to implement a sorting algorithm that sorts the distances and indices."
   ]
  },
  {
   "cell_type": "code",
   "execution_count": 11,
   "id": "0dc2b550",
   "metadata": {},
   "outputs": [],
   "source": [
    "# First create a simpler function that just returns the distances to test method I'm thinking of using.\n",
    "def get_all_nearest_neighbors_distances(test_sample, training_set_samples):\n",
    "    distances = []\n",
    "    for train_sample in training_set_samples:\n",
    "        distances.append(euclidian_distance(test_sample, train_sample))\n",
    "    return distances"
   ]
  },
  {
   "cell_type": "code",
   "execution_count": 25,
   "id": "e4a73c7d",
   "metadata": {},
   "outputs": [
    {
     "data": {
      "text/plain": [
       "[1.542724862054151, 5.095095681142799, 5.61871871515206]"
      ]
     },
     "execution_count": 25,
     "metadata": {},
     "output_type": "execute_result"
    }
   ],
   "source": [
    "test_sample_iris = np.array([7.2, 2.7, 6.2, 1.8])\n",
    "#print(np.array(X_iris_train[0]).shape)\n",
    "#print(test_sample.shape)\n",
    "distances = get_all_nearest_neighbors_distances(test_sample_iris, X_iris_train)\n",
    "distances[:3]"
   ]
  },
  {
   "cell_type": "markdown",
   "id": "f0a13adb",
   "metadata": {},
   "source": [
    "##### 3.2.1.2 Implementing a sorting algorithm to sort the distances and their corresponding indices\n",
    "The commented out part is the first version of this function - it used bubble sort to sort the distances. Since then I've swapped out bubble sort for quicksort as trying to compute the Ionosphere dataset error rate took too long because of the bubble sort running time. \n",
    "\n",
    "This version now implements a quicksort sorting method with two functions \"partition\" and \"quicksort\" itself which recursively sort the array of indices based on corresponding distance values."
   ]
  },
  {
   "cell_type": "code",
   "execution_count": 19,
   "id": "7fe82a39",
   "metadata": {},
   "outputs": [],
   "source": [
    "def partition(arr, indices, low, high):\n",
    "    i = low - 1\n",
    "    pivot = arr[indices[high]]\n",
    "\n",
    "    for j in range(low, high):\n",
    "        if arr[indices[j]] <= pivot:\n",
    "            i = i + 1\n",
    "            indices[i], indices[j] = indices[j], indices[i]\n",
    "\n",
    "    indices[i + 1], indices[high] = indices[high], indices[i + 1]\n",
    "    return i + 1\n",
    "\n",
    "def quicksort(arr, indices, low, high):\n",
    "    if low < high:\n",
    "        pi = partition(arr, indices, low, high)\n",
    "        quicksort(arr, indices, low, pi - 1)\n",
    "        quicksort(arr, indices, pi + 1, high)\n",
    "        \n",
    "\n",
    "def get_all_nearest_neighbors_indices(test_sample, training_set_samples):\n",
    "    distances = [euclidian_distance(test_sample, train_sample) for train_sample in training_set_samples]\n",
    "    indices = list(range(len(distances)))\n",
    "    \n",
    "    n = len(indices)\n",
    "    quicksort(distances, indices, 0, n - 1)\n",
    "    \n",
    "    return indices\n"
   ]
  },
  {
   "cell_type": "markdown",
   "id": "867e96d5",
   "metadata": {},
   "source": [
    "##### 3.2.1.3 Testing if the method returns the expected data\n",
    "Calling the get_all_nearest_neighbors_indices function and printing out the corresponding training samples to check if they are in fact the nearest samples to the test sample."
   ]
  },
  {
   "cell_type": "code",
   "execution_count": 27,
   "id": "123f5043",
   "metadata": {},
   "outputs": [
    {
     "name": "stdout",
     "output_type": "stream",
     "text": [
      "[21, 43, 34, 109, 22, 25, 58, 50, 44, 97, 68, 7, 48, 53, 62, 85, 105, 83, 66, 33, 78, 20, 18, 59, 12, 106, 84, 38, 54, 98, 0, 70, 31, 26, 107, 111, 42, 14, 110, 41, 49, 28, 75, 35, 46, 64, 60, 100, 91, 94, 101, 19, 95, 36, 4, 6, 90, 24, 52, 103, 17, 104, 32, 9, 45, 69, 40, 86, 39, 99, 10, 92, 27, 47, 1, 79, 30, 3, 89, 16, 55, 108, 102, 71, 96, 81, 5, 88, 63, 93, 76, 67, 80, 74, 23, 72, 87, 65, 8, 29, 13, 57, 2, 11, 82, 73, 56, 37, 61, 15, 51, 77]\n",
      "[7.3 2.9 6.3 1.8]\n",
      "[7.4 2.8 6.1 1.9]\n",
      "[7.1 3.  5.9 2.1]\n",
      "[7.2 3.2 6.  1.8]\n",
      "[6.7 2.5 5.8 1.8]\n",
      "[7.6 3.  6.6 2.1]\n",
      "[7.7 2.8 6.7 2. ]\n",
      "[7.7 3.  6.1 2.3]\n",
      "[6.8 3.2 5.9 2.3]\n",
      "[6.5 3.  5.8 2.2]\n"
     ]
    }
   ],
   "source": [
    "import numpy as np\n",
    "test_sample_iris = np.array([7.2, 2.7, 6.2, 1.8])\n",
    "indices = get_all_nearest_neighbors_indices(test_sample_iris, X_iris_train)\n",
    "print(indices)\n",
    "for index in indices[:10]:\n",
    "    print(X_iris_train[index])"
   ]
  },
  {
   "cell_type": "markdown",
   "id": "a3afef50",
   "metadata": {},
   "source": [
    "#### 3.2.2 Attempting to test if the data returned by get_all_nearest_neighbors_indices is correct\n",
    "Plotting the data with labels to see the values of the training samples. Because I printed out the 10 nearest neighbours of my test sample in the previous codebox, I now have a reference point to check if the samples are correctly \"the nearest ones\""
   ]
  },
  {
   "cell_type": "code",
   "execution_count": 28,
   "id": "9d296c33",
   "metadata": {},
   "outputs": [
    {
     "data": {
      "image/png": "[encoded data removed]",
      "text/plain": [
       "<Figure size 640x480 with 1 Axes>"
      ]
     },
     "metadata": {},
     "output_type": "display_data"
    }
   ],
   "source": [
    "plt.scatter(X_iris_train[:, 0], X_iris_train[:, 2], c=y_iris_train, s=60)\n",
    "\n",
    "plt.scatter(test_sample_iris[0], test_sample_iris[2], c='red', s=60) \n",
    "\n",
    "for x, y, label in zip(X_iris_train[:, 0], X_iris_train[:, 2], X_iris_train):\n",
    "    plt.text(x, y, f'({label[0]:.2f}, {label[1]:.2f})', fontsize=5)\n"
   ]
  },
  {
   "cell_type": "markdown",
   "id": "9f61fb16",
   "metadata": {},
   "source": [
    "**Plotting results:** By plotting the samples like we did in the labs and adding labels to them I was able to add in my test sample into the plot and see if the array of nearest neighbors is correct by visually seing if the samples returned by my function are closest to the test sample in the plot. And testing out different values of a test_sample, it was always plotted around the 10 nearest samples printed out beforehand, so the results are accurate."
   ]
  },
  {
   "cell_type": "markdown",
   "id": "0cc5c6fa",
   "metadata": {},
   "source": [
    "#### 3.2.3 Implementing the 1-NN method for iris dataset\n",
    "Now that I've got a function that returns an array of indices for all the nearest neighbors of a given test sample, I can implement a function that predicts the label of an iris sample. The implementation is really easy as I just need to return the first corresponding label for the nearest index."
   ]
  },
  {
   "cell_type": "code",
   "execution_count": 29,
   "id": "5159e9f6",
   "metadata": {},
   "outputs": [
    {
     "name": "stdout",
     "output_type": "stream",
     "text": [
      "2\n",
      "virginica\n"
     ]
    }
   ],
   "source": [
    "def predict_1nn(test_sample, training_set_samples, training_set_labels):\n",
    "    nearest_neighbor_index = get_all_nearest_neighbors_indices(test_sample, training_set_samples)[0]\n",
    "    nearest_label = training_set_labels[nearest_neighbor_index]\n",
    "    return nearest_label\n",
    "\n",
    "prediction = predict_1nn(test_sample_iris, X_iris_train, y_iris_train)\n",
    "print(prediction)\n",
    "print(iris['target_names'][prediction])"
   ]
  },
  {
   "cell_type": "markdown",
   "id": "6faf2f3a",
   "metadata": {},
   "source": [
    "The prediction has succesfuly returned a value 2 which corresponds to a label virginica for the iris. Later on I'm going to compare the prediction results to the sklearn nearest-neighbour algorithm to see if mine performs similarly."
   ]
  },
  {
   "cell_type": "code",
   "execution_count": 30,
   "id": "ba011a64",
   "metadata": {},
   "outputs": [
    {
     "name": "stdout",
     "output_type": "stream",
     "text": [
      "0 1 2\n"
     ]
    }
   ],
   "source": [
    "test_sample_iris_one = np.array([4.3, 3.,  1.1, 0.1])\n",
    "test_sample_iris_two = np.array([6.,  2.2, 4.,  1. ])\n",
    "test_sample_iris_three = np.array([7.2, 2.7, 6.2, 1.8])\n",
    "prediction1 = predict_1nn(test_sample_iris_one, X_iris_train, y_iris_train)\n",
    "prediction2 = predict_1nn(test_sample_iris_two, X_iris_train, y_iris_train)\n",
    "prediction3 = predict_1nn(test_sample_iris_three, X_iris_train, y_iris_train)\n",
    "print(prediction1, prediction2, prediction3)"
   ]
  },
  {
   "cell_type": "markdown",
   "id": "383bf51d",
   "metadata": {},
   "source": [
    "This was me testing out if three different samples would get three different predictions."
   ]
  },
  {
   "cell_type": "markdown",
   "id": "884f0ee2",
   "metadata": {},
   "source": [
    "#### 3.2.4 Evaluating the 1-NN model for the iris dataset\n",
    "Testing what the accuracy of our prediction is by computing labels for the test test."
   ]
  },
  {
   "cell_type": "code",
   "execution_count": 44,
   "id": "0ce241b4",
   "metadata": {},
   "outputs": [
    {
     "name": "stdout",
     "output_type": "stream",
     "text": [
      "Number of errors my algorithm:  3\n",
      "Test error rate my algorithm:  7.894736842105263 %\n",
      "Test error rate sklearn: 0.0%\n"
     ]
    }
   ],
   "source": [
    "# MY 1-NN ALGORITHM\n",
    "y_prediction_set = []\n",
    "for sample in X_iris_test:\n",
    "    y_prediction_set.append(predict_1nn(sample, X_iris_train, y_iris_train))\n",
    "errors = 0\n",
    "for i, label in enumerate(y_prediction_set):\n",
    "    if(y_prediction_set[i] != y_iris_test[i]):\n",
    "        errors = errors + 1\n",
    "test_error_rate = errors/len(y_prediction_set) *100\n",
    "print(\"Number of errors my algorithm: \",errors)\n",
    "print(\"Test error rate my algorithm: \",test_error_rate, \"%\")\n",
    "\n",
    "# SKLEARN 1-NN ALGORITHM\n",
    "from sklearn.neighbors import KNeighborsClassifier\n",
    "knn = KNeighborsClassifier(n_neighbors=1)\n",
    "knn.fit(X_iris_test, y_iris_test)\n",
    "y_prediction_set = knn.predict(X_iris_test)    \n",
    "print(f\"Test error rate sklearn: {(1-knn.score(X_iris_test,y_iris_test))*100}%\")\n"
   ]
  },
  {
   "cell_type": "markdown",
   "id": "a9895dcc",
   "metadata": {},
   "source": [
    "**Evaluation result:** Our model had three incorrectly labelled samples which means the model has a test_error_rate of 7.89% "
   ]
  },
  {
   "cell_type": "markdown",
   "id": "f28a17aa",
   "metadata": {},
   "source": [
    "#### 3.2.5 Testing if all previous functions work for the ionosphere dataset"
   ]
  },
  {
   "cell_type": "code",
   "execution_count": 45,
   "id": "f5a0d529",
   "metadata": {},
   "outputs": [],
   "source": [
    "test_sample_iono = X_iono_test[0]\n",
    "#euclidian_distance(test_sample_iono, X_iono_train[4]) Works as expected\n",
    "#get_all_nearest_neighbors_distances(test_sample_iono, X_iono_train) Works as expected\n",
    "#indices = get_all_nearest_neighbors_indices(test_sample_iono, X_iono_train) Works as expected\n",
    "#prediction = predict_1nn(test_sample_iono, X_iono_train, y_iono_train) Works as expected\n"
   ]
  },
  {
   "cell_type": "markdown",
   "id": "82502071",
   "metadata": {},
   "source": [
    "#### 3.2.6 Evaluating 1-NN model for ionosphere dataset"
   ]
  },
  {
   "cell_type": "code",
   "execution_count": 46,
   "id": "ffedb111",
   "metadata": {},
   "outputs": [
    {
     "name": "stdout",
     "output_type": "stream",
     "text": [
      "Number of errors:  11\n",
      "Test error rate:  12.5 %\n"
     ]
    }
   ],
   "source": [
    "y_prediction_set = []\n",
    "for sample in X_iono_test:\n",
    "    y_prediction_set.append(predict_1nn(sample, X_iono_train, y_iono_train))\n",
    "\n",
    "errors = 0\n",
    "for i, label in enumerate(y_prediction_set):\n",
    "    if(y_prediction_set[i] != y_iono_test[i]):\n",
    "        errors = errors + 1\n",
    "    \n",
    "test_error_rate = errors/len(y_prediction_set) *100\n",
    "print(\"Number of errors: \",errors)\n",
    "print(\"Test error rate: \",test_error_rate, \"%\")"
   ]
  },
  {
   "cell_type": "markdown",
   "id": "6b6ebfea",
   "metadata": {},
   "source": [
    "## 4 Implement the conformal predictor\n",
    "Implement the conformal predictor based on the Nearest Neighbour conformity measure:\n",
    "\n",
    "(the distance to the nearest sample of a different class) / (the distance to the nearest sample of the same class)"
   ]
  },
  {
   "cell_type": "markdown",
   "id": "2606c1c2",
   "metadata": {},
   "source": [
    "### 4.1 Implement function that returns index of nearest label of either same or different class\n",
    "The function will go through the array \"training_indices\" which will be passed to the function and return the first sample that matches (or doesn't) the class of the test_sample."
   ]
  },
  {
   "cell_type": "code",
   "execution_count": 47,
   "id": "460d8978",
   "metadata": {},
   "outputs": [],
   "source": [
    "def get_nearest_label_index(index_of_sample, test_label, training_set_labels, training_indices, same_class = True):\n",
    "    if(same_class):\n",
    "        for index in training_indices:\n",
    "            if(training_set_labels[index] == test_label):\n",
    "                if(index_of_sample != index):\n",
    "                    return index\n",
    "\n",
    "    else:\n",
    "        for index in training_indices:\n",
    "            if(training_set_labels[index] != test_label):\n",
    "                if(index_of_sample != index):\n",
    "                    return index"
   ]
  },
  {
   "cell_type": "markdown",
   "id": "a47d74b3",
   "metadata": {},
   "source": [
    "#### 4.1.1 Testing the result of the get_nearest_label_index function"
   ]
  },
  {
   "cell_type": "code",
   "execution_count": 48,
   "id": "511d58ca",
   "metadata": {},
   "outputs": [
    {
     "name": "stdout",
     "output_type": "stream",
     "text": [
      "[6.7 3.  5.  1.7]\n",
      "[ 1.       0.       0.8811   0.       0.94817 -0.02744  0.93598 -0.0122\n",
      "  0.90244  0.01829  0.90244  0.01829  0.93902  0.00915  0.95732  0.00305\n",
      "  1.       0.02744  0.94207 -0.0122   0.90854  0.02439  0.91463  0.05488\n",
      "  0.99695  0.04878  0.89666  0.02226  0.90854  0.00915  1.       0.05488\n",
      "  0.97561 -0.0122 ]\n",
      "[7.3 2.9 6.3 1.8]\n",
      "[ 1.       0.       0.62745 -0.07843  0.72549  0.       0.60784 -0.07843\n",
      "  0.62745 -0.11765  0.68627 -0.11765  0.66667 -0.13725  0.64706 -0.09804\n",
      "  0.54902 -0.11765  0.54902 -0.21569  0.58824 -0.19608  0.66667 -0.23529\n",
      "  0.45098 -0.2549   0.52409 -0.24668  0.56863 -0.31373  0.43137 -0.21569\n",
      "  0.47059 -0.27451]\n"
     ]
    }
   ],
   "source": [
    "nearest_neighbor_indices_iris = get_all_nearest_neighbors_indices(test_sample_iris, X_iris_train)\n",
    "nearest_neighbor_indices_iono = get_all_nearest_neighbors_indices(test_sample_iono, X_iono_train)\n",
    "nearest_same_class_iris = X_iris_train[get_nearest_label_index(9999, 1, y_iris_train, nearest_neighbor_indices_iris)]\n",
    "nearest_same_class_iono = X_iono_train[get_nearest_label_index(9999, 1, y_iono_train, nearest_neighbor_indices_iono)]\n",
    "nearest_diff_class_iris = X_iris_train[get_nearest_label_index(9999, 1, y_iris_train, nearest_neighbor_indices_iris, False)]\n",
    "nearest_diff_class_iono = X_iono_train[get_nearest_label_index(9999, 1, y_iono_train, nearest_neighbor_indices_iono, False)]\n",
    "print(nearest_same_class_iris)\n",
    "print(nearest_same_class_iono)\n",
    "print(nearest_diff_class_iris)\n",
    "print(nearest_diff_class_iono)"
   ]
  },
  {
   "cell_type": "markdown",
   "id": "02c5e946",
   "metadata": {},
   "source": [
    "### 4.2 Implementing function that calculates nonconformity scores\n",
    "The function will add the test sample and each possible postulated label to the training set and by doing so create augmented training sets for labels and samples. We can then calculate each samples nonconformity score and store it in an array \"nonconformity_scores\".\n",
    "\n",
    "**Note** I know the corsework specification mentions \"conformity measure\" not \"nonconformity measure\", but after running tests, the error rate was 7 times higher implementing this algorithm thinking about the scores as conformity scores, not nonconformity scores, so I have decided to use those as they provide more accurate results."
   ]
  },
  {
   "cell_type": "code",
   "execution_count": 58,
   "id": "39252b8a",
   "metadata": {},
   "outputs": [
    {
     "data": {
      "text/plain": [
       "[1.2050411933348806,\n",
       " 0.3262124536870392,\n",
       " 0.5312394890232827,\n",
       " 0.2674094277110743,\n",
       " 0.6495506043426897,\n",
       " 0.9491000115088472,\n",
       " 1.3873459023470434,\n",
       " 0.9224959289196489,\n",
       " 0.4526306318300297,\n",
       " 0.2609441822246603]"
      ]
     },
     "execution_count": 58,
     "metadata": {},
     "output_type": "execute_result"
    }
   ],
   "source": [
    "def get_scores(label, test_sample, training_set_samples, training_set_labels):\n",
    "    augmented_labels = np.append(training_set_labels, label)\n",
    "    augmented_samples = np.append(training_set_samples, [test_sample], axis=0)\n",
    "    nonconformity_scores = []\n",
    "    for index, sample in enumerate(augmented_samples):\n",
    "        nearest_neighbor_indices = get_all_nearest_neighbors_indices(sample, augmented_samples)\n",
    "        nearest_same = augmented_samples[get_nearest_label_index(index, augmented_labels[index], augmented_labels, nearest_neighbor_indices)]\n",
    "        nearest_diff = augmented_samples[get_nearest_label_index(index, augmented_labels[index], augmented_labels, nearest_neighbor_indices, False)]\n",
    "        distance_same = euclidian_distance(sample, nearest_same)\n",
    "        distance_diff = euclidian_distance(sample, nearest_diff)\n",
    "        if(distance_diff != 0):\n",
    "            nonconformity_scores.append(distance_same/distance_diff)\n",
    "        else:\n",
    "            nonconformity_scores.append(math.inf)\n",
    "\n",
    "    return nonconformity_scores\n",
    "\n",
    "test_label = 1\n",
    "scores = get_scores(test_label, test_sample_iono, X_iono_train, y_iono_train)\n",
    "scores[:10]"
   ]
  },
  {
   "cell_type": "markdown",
   "id": "91d11435",
   "metadata": {},
   "source": [
    "### 4.3 Implementing a function that returns the p-value of a test sample\n",
    "The function takes just one argument \"nonconformity_scores\" which is an array of nonconformity scores for the augmented training set. It then calculates how many scores are higher or equal than the last score (the last score is the test sample) and returns that value divided by n+1"
   ]
  },
  {
   "cell_type": "code",
   "execution_count": 59,
   "id": "a5e549c0",
   "metadata": {},
   "outputs": [
    {
     "name": "stdout",
     "output_type": "stream",
     "text": [
      "P-value for label: 0 on sample: [7.2 2.7 6.2 1.8] is 0.008849557522123894\n",
      "P-value for label: 1 on sample: [7.2 2.7 6.2 1.8] is 0.008849557522123894\n",
      "P-value for label: 2 on sample: [7.2 2.7 6.2 1.8] is 0.584070796460177\n",
      "P-value for label: 1 on test sample is 0.9090909090909091\n",
      "P-value for label: -1 on test sample is 0.003787878787878788\n"
     ]
    }
   ],
   "source": [
    "def get_p_value(nonconformity_scores):\n",
    "    test_score = nonconformity_scores[-1]\n",
    "    count = sum(score >= test_score for score in nonconformity_scores[:-1]) + 1\n",
    "    return count / len(nonconformity_scores)\n",
    "\n",
    "label_space_iris = [0,1,2]\n",
    "label_space_iono = [1, -1]\n",
    "\n",
    "for label in label_space_iris: \n",
    "    scores_iris = get_scores(label, test_sample_iris, X_iris_train, y_iris_train)\n",
    "    p_value_iris = get_p_value(scores_iris)\n",
    "    print(f\"P-value for label: {label} on sample: {test_sample_iris} is {p_value_iris}\")\n",
    "    \n",
    "for label in label_space_iono: \n",
    "    scores_iono = get_scores(label, test_sample_iono, X_iono_train, y_iono_train)\n",
    "    p_value_iono = get_p_value(scores_iono)\n",
    "    print(f\"P-value for label: {label} on test sample is {p_value_iono}\")\n",
    "\n",
    "    "
   ]
  },
  {
   "cell_type": "markdown",
   "id": "6d5bd43e",
   "metadata": {},
   "source": [
    "### 4.4 Implementing the predict function\n",
    "The predict function will actually predict the label based on the previously calculated p_values and the possible labels. "
   ]
  },
  {
   "cell_type": "code",
   "execution_count": 60,
   "id": "234de5a3",
   "metadata": {},
   "outputs": [],
   "source": [
    "def predict(test_sample, training_set_samples, training_set_labels, label_space):\n",
    "    highest = 0\n",
    "    predicted_label = -2\n",
    "    for label in label_space:\n",
    "        nononformity_scores = get_scores(label, test_sample, training_set_samples, training_set_labels)\n",
    "        p_value = get_p_value(nononformity_scores)\n",
    "        if p_value > highest:\n",
    "            highest = p_value\n",
    "            predicted_label = label\n",
    "    return predicted_label"
   ]
  },
  {
   "cell_type": "code",
   "execution_count": 61,
   "id": "b314df87",
   "metadata": {},
   "outputs": [
    {
     "name": "stdout",
     "output_type": "stream",
     "text": [
      "My prediction for test_sample_iris: virginica\n",
      "My prediction for test_sample_iono: 1\n",
      "sklearn NN algorithm prediction for test_sample_iono: [1]\n",
      "sklearn NN algorithm prediction for test_sample_iris: ['virginica']\n"
     ]
    }
   ],
   "source": [
    "iris_possible_labels = [0,1,2]\n",
    "iono_possible_labels = [1, -1]\n",
    "\n",
    "test_sample_iris = np.array([7.2, 2.7, 6.2, 1.8]) \n",
    "test_sample_iono = np.array(X_iono_test[0]) \n",
    "\n",
    "prediction_iris = predict(test_sample_iris, X_iris_train, y_iris_train, iris_possible_labels)\n",
    "prediction_iono = predict(test_sample_iono, X_iono_train, y_iono_train, iono_possible_labels)\n",
    "\n",
    "print(f\"My prediction for test_sample_iris: {iris['target_names'][prediction_iris]}\")\n",
    "print(f\"My prediction for test_sample_iono: {prediction_iono}\")\n",
    "\n",
    "from sklearn.neighbors import KNeighborsClassifier\n",
    "knn = KNeighborsClassifier(n_neighbors=1)\n",
    "knn.fit(X_iono_train, y_iono_train)\n",
    "\n",
    "test_sample_iono_nn = np.array([X_iono_test[0]]) \n",
    "prediction_iono = knn.predict(test_sample_iono_nn)\n",
    "print(f\"sklearn NN algorithm prediction for test_sample_iono: {prediction_iono}\")\n",
    "\n",
    "knn.fit(X_iris_train, y_iris_train)\n",
    "\n",
    "test_sample_iris_nn = np.array([[7.2, 2.7, 6.2, 1.8]]) \n",
    "prediction_iris = knn.predict(test_sample_iris_nn)\n",
    "print(f\"sklearn NN algorithm prediction for test_sample_iris: {iris['target_names'][prediction_iris]}\")\n"
   ]
  },
  {
   "cell_type": "markdown",
   "id": "178070bf",
   "metadata": {},
   "source": [
    "### 4.5 Evaluating conformal predictor\n",
    "Evaluating the conformal predictor by calculating the error amount and rate, and then calculating the average false p-value.\n",
    "\n",
    "#### 4.5.1 Evaluating error amount and rate"
   ]
  },
  {
   "cell_type": "code",
   "execution_count": 62,
   "id": "5e14e048",
   "metadata": {},
   "outputs": [
    {
     "name": "stdout",
     "output_type": "stream",
     "text": [
      "Error amount in iono: 11\n",
      "Error rate in iono: 12.5%\n"
     ]
    }
   ],
   "source": [
    "iono_possible_labels = [-1,1]\n",
    "predictions_iono = []\n",
    "for sample in X_iono_test:\n",
    "    predictions_iono.append(predict(sample, X_iono_train, y_iono_train, iono_possible_labels))\n",
    "\n",
    "# iris_possible_labels = [0,1,2]\n",
    "# predictions_iris = []\n",
    "# for sample in X_iris_test:\n",
    "#     predictions_iris.append(predict(sample, X_iris_train, y_iris_train, iris_possible_labels))\n",
    "    \n",
    "# Compare with actual labels to calculate error rate\n",
    "errors_iono = sum(predicted_label != actual_label for predicted_label, actual_label in zip(predictions_iono, y_iono_test))\n",
    "error_rate_iono = errors_iono / len(y_iono_test) * 100\n",
    "\n",
    "# # Compare with actual labels to calculate error rate\n",
    "# errors_iris = sum(predicted_label != actual_label for predicted_label, actual_label in zip(predictions_iris, y_iris_test))\n",
    "# error_rate_iris = errors_iris / len(y_iris_test) * 100\n",
    "\n",
    "print(f\"Error amount in iono: {errors_iono}\")\n",
    "print(f\"Error rate in iono: {error_rate_iono}%\")\n",
    "# print(f\"Error amount in iris: {errors_iris}\")\n",
    "# print(f\"Error rate in iris: {error_rate_iris}%\")"
   ]
  },
  {
   "cell_type": "markdown",
   "id": "9aabf26f",
   "metadata": {},
   "source": [
    "#### 4.5.1 Calculating average false p-value\n",
    "A function that creates an array \"false_p_values\" and stores all of the incorrectly predicted label p-values. It then just calculates the average of those values and returns it."
   ]
  },
  {
   "cell_type": "code",
   "execution_count": 66,
   "id": "88da9746",
   "metadata": {},
   "outputs": [
    {
     "name": "stdout",
     "output_type": "stream",
     "text": [
      "Average false p-value for iris: 0.11504424778761063\n",
      "Average false p-value for iono: 0.2617079889807163\n"
     ]
    }
   ],
   "source": [
    "def calculate_avg_false_p_value(X_test, y_test, X_train, Y_train, label_space):\n",
    "    false_p_values = []\n",
    "    for i in range(len(X_test)):\n",
    "        test_sample = X_test[i]\n",
    "        true_label = y_test[i]\n",
    "        predicted_label = predict(test_sample, X_train, Y_train, label_space)\n",
    "        nonconformity_scores = get_scores(predicted_label, test_sample, X_train, Y_train)\n",
    "        test_score = nonconformity_scores[-1]\n",
    "        p_value = get_p_value(nonconformity_scores)\n",
    "        if predicted_label != true_label:\n",
    "            false_p_values.append(p_value)\n",
    "    avg_false_p_value = np.mean(false_p_values)\n",
    "    return avg_false_p_value\n",
    "\n",
    "iris_possible_labels = [0,1,2]\n",
    "iono_possible_labels = [-1, 1]\n",
    "\n",
    "avg_false_p_value_iris = calculate_avg_false_p_value(X_iris_test, y_iris_test, X_iris_train, y_iris_train, iris_possible_labels)\n",
    "print(f\"Average false p-value for iris: {avg_false_p_value_iris}\")\n",
    "\n",
    "avg_false_p_value_iono = calculate_avg_false_p_value(X_iono_test, y_iono_test, X_iono_train, y_iono_train, iono_possible_labels)\n",
    "print(f\"Average false p-value for iono: {avg_false_p_value_iono}\")"
   ]
  },
  {
   "cell_type": "markdown",
   "id": "62255bf9",
   "metadata": {},
   "source": [
    "## 5 Turning the individual functions into a conformal predictor object\n",
    "All of the functions used as the object fuctions work and are structured the same way as the previously described and executed functikons are, the only difference for most of them is not having the training sets as arguments as those are stored in the object itself.\n",
    "\n",
    "### 5.1 Creating NN_conformal_predictor object"
   ]
  },
  {
   "cell_type": "code",
   "execution_count": 65,
   "id": "6506430c",
   "metadata": {},
   "outputs": [
    {
     "name": "stdout",
     "output_type": "stream",
     "text": [
      "0.584070796460177\n",
      "2\n"
     ]
    }
   ],
   "source": [
    "import math\n",
    "class NN_conformal_predictor:\n",
    "    def __init__(self, X, y):\n",
    "        '''NN_predictor constructor'''\n",
    "        self.X_train = X\n",
    "        self.y_train = y\n",
    "        self.label_space = list(set(y))\n",
    "        \n",
    "    \n",
    "    def _euclidian_distance(self, inst1, inst2):\n",
    "        '''Calculate euclidian distance between two rows in the dataset'''\n",
    "        v1 = np.array(inst1)\n",
    "        v2 = np.array(inst2)\n",
    "        variable_sum = 0\n",
    "        if(v1.shape == v2.shape):\n",
    "            for i in range(v1.shape[0]):\n",
    "                variable_sum += (v1[i] - v2[i])**2\n",
    "            return math.sqrt(variable_sum)\n",
    "        else:\n",
    "            return -1\n",
    "        \n",
    "    def _partition(self, arr, indices, low, high):\n",
    "        i = low - 1\n",
    "        pivot = arr[indices[high]]\n",
    "\n",
    "        for j in range(low, high):\n",
    "            if arr[indices[j]] <= pivot:\n",
    "                i = i + 1\n",
    "                indices[i], indices[j] = indices[j], indices[i]\n",
    "\n",
    "        indices[i + 1], indices[high] = indices[high], indices[i + 1]\n",
    "        return i + 1\n",
    "\n",
    "    def _quicksort(self, arr, indices, low, high):\n",
    "        if low < high:\n",
    "            pi = self._partition(arr, indices, low, high)\n",
    "            self._quicksort(arr, indices, low, pi - 1)\n",
    "            self._quicksort(arr, indices, pi + 1, high)\n",
    "\n",
    "    def _get_all_nearest_neighbors_indices(self, test_sample):\n",
    "        distances = [self._euclidian_distance(test_sample, train_sample) for train_sample in self.X_train]\n",
    "        indices = list(range(len(distances)))\n",
    "\n",
    "        n = len(indices)\n",
    "        self._quicksort(distances, indices, 0, n - 1)\n",
    "\n",
    "        return indices\n",
    "    \n",
    "    def predict_1nn(self, test_sample):\n",
    "        '''1-NN Predictor, returns label of the nearest neighbour'''\n",
    "        nearest_neighbor_index = self._get_all_nearest_neighbors_indices(test_sample)[0]\n",
    "        nearest_label = self.y_train[nearest_neighbor_index]\n",
    "        return nearest_label\n",
    "    \n",
    "    def _get_nearest_label_index(self, test_sample, test_label, index_of_sample, same_class = True):\n",
    "        '''Returns index of nearest neighbour with same class label as test sample'''\n",
    "        training_indices = self._get_all_nearest_neighbors_indices(test_sample)\n",
    "        if(same_class):\n",
    "            for index in training_indices:\n",
    "                if(self.y_train[index] == test_label):\n",
    "                    if(index_of_sample != index):\n",
    "                        return index\n",
    "        else:\n",
    "            for index in training_indices:\n",
    "                if(self.y_train[index] != test_label):\n",
    "                    if(index_of_sample != index):\n",
    "                        return index\n",
    "                    \n",
    "    def _get_scores(self, test_sample, test_label):\n",
    "        '''Returns array of augmented training sets nonconformity scores'''\n",
    "        self.X_train = np.append(self.X_train, [test_sample], axis=0)\n",
    "        self.y_train = np.append(self.y_train, test_label)\n",
    "        nononformity_scores = []\n",
    "        for index, sample in enumerate(self.X_train):\n",
    "            nearest_neighbor_indices = self._get_all_nearest_neighbors_indices(sample)\n",
    "            nearest_same = self.X_train[self._get_nearest_label_index(sample, self.y_train[index], index)]\n",
    "            nearest_diff = self.X_train[self._get_nearest_label_index(sample, self.y_train[index], index, False)]\n",
    "            distance_same = self._euclidian_distance(sample, nearest_same)\n",
    "            distance_diff = self._euclidian_distance(sample, nearest_diff)\n",
    "            if(distance_diff != 0):\n",
    "                nononformity_scores.append(distance_same/distance_diff)\n",
    "            else:\n",
    "                nononformity_scores.append(math.inf)\n",
    "        self.X_train = self.X_train[:-1]\n",
    "        self.y_train = self.y_train[:-1]\n",
    "        return nononformity_scores\n",
    "    \n",
    "    def _get_p_value(self, test_sample, test_label):\n",
    "        '''Returns p-value of test_sample with test_label'''\n",
    "        nononformity_scores = self._get_scores(test_sample, test_label)\n",
    "        test_score = nononformity_scores[-1]\n",
    "        count = sum(score >= test_score for score in nononformity_scores[:-1]) + 1\n",
    "        return count / len(nononformity_scores)\n",
    "    \n",
    "    def predict(self, test_sample):\n",
    "        '''Returns predicted label for test_sample'''\n",
    "        highest = 0\n",
    "        predicted_label = math.inf\n",
    "        for label in self.label_space:\n",
    "            p_value = self._get_p_value(test_sample, label)\n",
    "            if p_value > highest:\n",
    "                highest = p_value\n",
    "                predicted_label = label\n",
    "        return predicted_label\n",
    "    \n",
    "    def get_error_amount(self, y_test, predictions):\n",
    "        errors = y_test != predictions\n",
    "        return np.sum(errors)\n",
    "                    \n",
    "    def get_error_rate(self, y_test, predictions):\n",
    "        errors = y_test != predictions\n",
    "        return (np.sum(errors)/y_test.shape[0]) * 100\n",
    "        \n",
    "\n",
    "predictor = NN_conformal_predictor(X_iris_train, y_iris_train)\n",
    "x_new = np.array([7.2, 2.7, 6.2, 1.8])\n",
    "y_new = 2\n",
    "print(predictor._get_p_value(x_new, y_new))\n",
    "print(predictor.predict(x_new))"
   ]
  },
  {
   "cell_type": "markdown",
   "id": "c425b122",
   "metadata": {},
   "source": [
    "### 5.2 Evaluating the conformal predictor object\n",
    "Evaluating the error amount and rate that the conformal predictor gives on the iris and ionosphere datasets. Then as it has been taking quite long to get results also measuring what the running time of the prediction is.\n",
    "\n",
    "#### 5.2.1 Evaluating error amount and rate in conformal predictor object (Conformal prediciton)"
   ]
  },
  {
   "cell_type": "code",
   "execution_count": 70,
   "id": "8de212af",
   "metadata": {},
   "outputs": [
    {
     "name": "stdout",
     "output_type": "stream",
     "text": [
      "The nonconformal predictor on the iris test dataset had 2 errors, which gives us an error rate of 5.263157894736842%\n",
      "The nonconformal predictor on the Ionospehere test dataset had 11 errors, which gives us an error rate of 12.5%\n"
     ]
    }
   ],
   "source": [
    "import time\n",
    "predictor_iris = NN_conformal_predictor(X_iris_train, y_iris_train)\n",
    "predictor_iono = NN_conformal_predictor(X_iono_train, y_iono_train)\n",
    "\n",
    "start_time_iris = time.time()\n",
    "predictions_iris = [predictor_iris.predict(sample) for sample in X_iris_test]\n",
    "errors_iris = predictor_iris.get_error_amount(y_iris_test, predictions_iris)\n",
    "error_rate_iris = predictor_iris.get_error_rate(y_iris_test, predictions_iris)\n",
    "print(f\"The nonconformal predictor on the iris test dataset had {errors_iris} errors, which gives us an error rate of {error_rate_iris}%\")\n",
    "end_time_iris = time.time()\n",
    "\n",
    "start_time_iono = time.time()\n",
    "predictions_iono = [predictor_iono.predict(sample) for sample in X_iono_test]\n",
    "errors_iono = predictor_iono.get_error_amount(y_iono_test, predictions_iono)\n",
    "error_rate_iono = predictor_iono.get_error_rate(y_iono_test, predictions_iono)\n",
    "print(f\"The nonconformal predictor on the Ionospehere test dataset had {errors_iono} errors, which gives us an error rate of {error_rate_iono}%\")\n",
    "end_time_iono = time.time()"
   ]
  },
  {
   "cell_type": "markdown",
   "id": "2becd6f8",
   "metadata": {},
   "source": [
    "#### 5.2.2 Evaluating error amount and rate as well as running time in conformal predictor object (1-NN prediction)\n"
   ]
  },
  {
   "cell_type": "code",
   "execution_count": 76,
   "id": "69d52875",
   "metadata": {},
   "outputs": [
    {
     "name": "stdout",
     "output_type": "stream",
     "text": [
      "The nonconformal predictor object (using 1-NN) on the iris test dataset had 3 errors, which gives us an error rate of 7.894736842105263%\n",
      "The running time of the 1-NN algorithm is 0.017100095748901367s\n"
     ]
    }
   ],
   "source": [
    "import time\n",
    "predictor_iris = NN_conformal_predictor(X_iris_train, y_iris_train)\n",
    "\n",
    "start_time_iris = time.time()\n",
    "predictions_iris = [predictor_iris.predict_1nn(sample) for sample in X_iris_test]\n",
    "errors_iris = predictor_iris.get_error_amount(y_iris_test, predictions_iris)\n",
    "error_rate_iris = predictor_iris.get_error_rate(y_iris_test, predictions_iris)\n",
    "print(f\"The nonconformal predictor object (using 1-NN) on the iris test dataset had {errors_iris} errors, which gives us an error rate of {error_rate_iris}%\")\n",
    "end_time_iris = time.time()\n",
    "execution_time_iris = end_time_iris - start_time_iris\n",
    "print(f\"The running time of the 1-NN algorithm is {execution_time_iris}s\")"
   ]
  },
  {
   "cell_type": "markdown",
   "id": "2a7ceef2",
   "metadata": {},
   "source": [
    "#### 5.2.3 Evaluating running time of conformal predictor and comparing it to sklearn's algorithm"
   ]
  },
  {
   "cell_type": "code",
   "execution_count": 71,
   "id": "4e4e81d0",
   "metadata": {},
   "outputs": [
    {
     "name": "stdout",
     "output_type": "stream",
     "text": [
      "Execution time for my conformal predictor algorithm on iris dataset: 7.861454010009766 seconds\n",
      "Execution time for my conformal predictor algorithm on ionosphere dataset: 294.37130904197693 seconds\n",
      "Execution time for sklearn predictor algorithm on iris dataset: 0.06001114845275879 seconds\n",
      "Execution time for sklearn predictor algorithm on ionosphere dataset: 0.021790027618408203 seconds\n"
     ]
    }
   ],
   "source": [
    "import time\n",
    "from sklearn.neighbors import KNeighborsClassifier\n",
    "knn_iris = KNeighborsClassifier(n_neighbors=1)\n",
    "knn_iono = KNeighborsClassifier(n_neighbors=1)\n",
    "\n",
    "start_time_iris_sklearn = time.time()\n",
    "knn_iris.fit(X_iris_train, y_iris_train)\n",
    "knn_iris.score(X_iris_test, y_iris_test)\n",
    "end_time_iris_sklearn = time.time()\n",
    "\n",
    "start_time_iono_sklearn = time.time()\n",
    "knn_iono.fit(X_iono_train, y_iono_train)\n",
    "knn_iono.score(X_iono_test, y_iono_test)\n",
    "end_time_iono_sklearn = time.time()\n",
    "\n",
    "execution_time_iris = end_time_iris - start_time_iris\n",
    "execution_time_iono = end_time_iono - start_time_iono\n",
    "execution_time_iris_sklearn = end_time_iris_sklearn - start_time_iris_sklearn\n",
    "execution_time_iono_sklearn = end_time_iono_sklearn - start_time_iono_sklearn\n",
    "print(f\"Execution time for my conformal predictor algorithm on iris dataset: {execution_time_iris} seconds\")\n",
    "print(f\"Execution time for my conformal predictor algorithm on ionosphere dataset: {execution_time_iono} seconds\")\n",
    "print(f\"Execution time for sklearn predictor algorithm on iris dataset: {execution_time_iris_sklearn} seconds\")\n",
    "print(f\"Execution time for sklearn predictor algorithm on ionosphere dataset: {execution_time_iono_sklearn} seconds\")\n",
    "\n"
   ]
  },
  {
   "cell_type": "markdown",
   "id": "155965cd",
   "metadata": {},
   "source": [
    "#### Evaluation results\n",
    "The amount of errors and error rate for both the ionosphere and iris datasets are really good in my opinion. Having an error rate of 5.2% and 12.5% leaves us with accuracy of 94.8% and 87.5%.\n",
    "\n",
    "Of course the error rate could be lower, especially for the ionosphere dataset, but for the fact that we have used such a simple nonconformity measure and still gotten a relatively high accuracy surprised me. "
   ]
  },
  {
   "cell_type": "code",
   "execution_count": null,
   "id": "97f1065b",
   "metadata": {},
   "outputs": [],
   "source": []
  }
 ],
 "metadata": {
  "kernelspec": {
   "display_name": "Python 3 (ipykernel)",
   "language": "python",
   "name": "python3"
  },
  "language_info": {
   "codemirror_mode": {
    "name": "ipython",
    "version": 3
   },
   "file_extension": ".py",
   "mimetype": "text/x-python",
   "name": "python",
   "nbconvert_exporter": "python",
   "pygments_lexer": "ipython3",
   "version": "3.11.5"
  }
 },
 "nbformat": 4,
 "nbformat_minor": 5
}
