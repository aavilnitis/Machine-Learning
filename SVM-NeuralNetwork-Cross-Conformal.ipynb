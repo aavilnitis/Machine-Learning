{
 "cells": [
  {
   "cell_type": "markdown",
   "id": "b0acf0ca",
   "metadata": {},
   "source": [
    "# CS3920 Assignment 2\n",
    "\n",
    "#### Learning outcomes assessed\n",
    "\n",
    "Be able to use and implement machine-learning algorithms, with the SVM,\n",
    "neural networks, and cross-conformal prediction algorithms as examples. Have\n",
    "an understanding of ways to apply the ideas and algorithms of machine learning\n",
    "in industry.\n"
   ]
  },
  {
   "cell_type": "markdown",
   "id": "2256c16d",
   "metadata": {},
   "source": [
    "## Question 1: Loading Datasets\n",
    "\n",
    "Load the data set into Python using, e.g., load_wine or genfromtxt, as appropriate. In the case of the USPS dataset, merge the original training and test sets into one dataset.\n"
   ]
  },
  {
   "cell_type": "markdown",
   "id": "5c592e10",
   "metadata": {},
   "source": [
    "### 1.1 Loading Wine Dataset\n"
   ]
  },
  {
   "cell_type": "code",
   "execution_count": 2,
   "id": "797cf96b",
   "metadata": {},
   "outputs": [],
   "source": [
    "from sklearn.datasets import load_wine\n",
    "import numpy as np\n",
    "\n",
    "wine: np.ndarray = load_wine()\n",
    "X_wine: np.ndarray = wine.data\n",
    "y_wine: np.ndarray = wine.target"
   ]
  },
  {
   "cell_type": "markdown",
   "id": "95a28ba7",
   "metadata": {},
   "source": [
    "### 1.2 Loading USPS Dataset\n"
   ]
  },
  {
   "cell_type": "code",
   "execution_count": 89,
   "id": "f59a4eba",
   "metadata": {},
   "outputs": [],
   "source": [
    "zip_train: np.ndarray = np.genfromtxt(\"zip.train\", delimiter=\" \")\n",
    "zip_train = zip_train[::5]\n",
    "\n",
    "zip_test: np.ndarray = np.genfromtxt(\"zip.test\", delimiter=\" \")\n",
    "zip_test = zip_test[::5]\n",
    "\n",
    "zip_data: np.ndarray = np.concatenate((zip_train, zip_test), axis=0)\n",
    "zip_data = zip_data[::5]\n",
    "\n",
    "X_zip: np.ndarray = zip_data[:, 1:]\n",
    "y_zip: np.ndarray = zip_data[:, 0]"
   ]
  },
  {
   "cell_type": "markdown",
   "id": "52864cd2",
   "metadata": {},
   "source": [
    "## Question 2: Split dataset into training and a test set\n",
    "\n",
    "Divide the dataset into a training set and a test set. You may use the function train_test_split. Use your birthday in the format DDMM as random_state (omit leading zeros if any).\n"
   ]
  },
  {
   "cell_type": "code",
   "execution_count": 80,
   "id": "0de760d3",
   "metadata": {},
   "outputs": [],
   "source": [
    "from sklearn.model_selection import train_test_split"
   ]
  },
  {
   "cell_type": "markdown",
   "id": "262d82aa",
   "metadata": {},
   "source": [
    "### 2.1 Splitting Wine Dataset\n"
   ]
  },
  {
   "cell_type": "code",
   "execution_count": 81,
   "id": "db052073",
   "metadata": {},
   "outputs": [
    {
     "name": "stdout",
     "output_type": "stream",
     "text": [
      "(133, 13)\n",
      "(45, 13)\n"
     ]
    }
   ],
   "source": [
    "X_wine_train, X_wine_test, y_wine_train, y_wine_test = train_test_split(\n",
    "    X_wine, y_wine, random_state=2708\n",
    ")\n",
    "print(X_wine_train.shape)\n",
    "print(X_wine_test.shape)"
   ]
  },
  {
   "cell_type": "markdown",
   "id": "e5bd3ef7",
   "metadata": {},
   "source": [
    "### 2.1 Splitting USPS Dataset\n"
   ]
  },
  {
   "cell_type": "code",
   "execution_count": 90,
   "id": "773a1f0b",
   "metadata": {},
   "outputs": [
    {
     "name": "stdout",
     "output_type": "stream",
     "text": [
      "(279, 256)\n",
      "(94, 256)\n"
     ]
    }
   ],
   "source": [
    "X_zip_train, X_zip_test, y_zip_train, y_zip_test = train_test_split(\n",
    "    X_zip, y_zip, random_state=2708\n",
    ")\n",
    "print(X_zip_train.shape)\n",
    "print(X_zip_test.shape)"
   ]
  },
  {
   "cell_type": "markdown",
   "id": "f198222b",
   "metadata": {},
   "source": [
    "## Question 3: Using cross-validation, estimate generalization of the SVM\n",
    "\n",
    "Using cross-validation and the training set only, estimate the generalization accuracy of the SVM with the default values of the parameters. You may use the function cross_val_score.\n"
   ]
  },
  {
   "cell_type": "code",
   "execution_count": 83,
   "id": "7c6747a6",
   "metadata": {},
   "outputs": [],
   "source": [
    "from sklearn.model_selection import cross_val_score\n",
    "from sklearn import svm\n",
    "import numpy as np\n",
    "\n",
    "\n",
    "class CrossValidation:\n",
    "    def __init__(self, X_train, y_train, model, cv=5):\n",
    "        self.X_train = X_train\n",
    "        self.y_train = y_train\n",
    "        self.model = model.fit(X_train, y_train)\n",
    "        self.cv = cv\n",
    "\n",
    "    def get_model_accuracy(self):\n",
    "        return self.model.score(self.X_test, self.y_test)\n",
    "\n",
    "    def get_cross_val_score(self):\n",
    "        # perform cross-validation\n",
    "        scores = cross_val_score(self.model, self.X_train, self.y_train, cv=self.cv)\n",
    "        # get average of scores\n",
    "        score = np.mean(scores)\n",
    "        return score"
   ]
  },
  {
   "cell_type": "markdown",
   "id": "ef25592f",
   "metadata": {},
   "source": [
    "## Question 4: Find test error rate of the SVM\n",
    "\n",
    "Find the test error rate of the SVM with the default values of parameters, compare it with the estimate obtained in the previous task (task 3), and write your observations in a markdown cell of your Jupyter notebook.\n"
   ]
  },
  {
   "cell_type": "code",
   "execution_count": 84,
   "id": "8fc50410",
   "metadata": {},
   "outputs": [],
   "source": [
    "from sklearn.model_selection import cross_val_score\n",
    "from sklearn import svm\n",
    "import numpy as np\n",
    "\n",
    "\n",
    "class CrossValidation:\n",
    "    def __init__(self, X_train, y_train, model, cv=3):\n",
    "        self.X_train = X_train\n",
    "        self.y_train = y_train\n",
    "        self.model = model.fit(X_train, y_train)\n",
    "        self.cv = cv\n",
    "\n",
    "    def get_model_accuracy(self):\n",
    "        return self.model.score(self.X_train, self.y_train)\n",
    "\n",
    "    def get_cross_val_score(self):\n",
    "        # perform cross-validation\n",
    "        scores = cross_val_score(self.model, self.X_train, self.y_train, cv=self.cv)\n",
    "        # get average of scores\n",
    "        score = np.mean(scores)\n",
    "        return score\n",
    "\n",
    "    def get_model_error_rate(self):\n",
    "        return 1 - self.get_model_accuracy()\n",
    "\n",
    "    def get_cross_val_error_rate(self):\n",
    "        return 1 - self.get_cross_val_score()\n",
    "\n",
    "    def print_model_accuracy(self):\n",
    "        print(f\"Model score: {self.get_model_accuracy()}\")\n",
    "        print(f\"Model error rate: {self.get_model_error_rate()}\")\n",
    "        print(f\"Cross validation score: {self.get_cross_val_score()}\")\n",
    "        print(f\"Cross validation error rate: {self.get_cross_val_error_rate()}\")"
   ]
  },
  {
   "cell_type": "markdown",
   "id": "b2564357",
   "metadata": {},
   "source": [
    "## Q3/4:1 Cross validation on wine dataset\n"
   ]
  },
  {
   "cell_type": "code",
   "execution_count": 85,
   "id": "dde2f9a8",
   "metadata": {},
   "outputs": [
    {
     "name": "stdout",
     "output_type": "stream",
     "text": [
      "Model score: 0.7142857142857143\n",
      "Model error rate: 0.2857142857142857\n",
      "Cross validation score: 0.6914141414141414\n",
      "Cross validation error rate: 0.30858585858585863\n"
     ]
    }
   ],
   "source": [
    "model = svm.SVC()\n",
    "cross_validation_object = CrossValidation(X_wine_train, y_wine_train, model)\n",
    "cross_validation_object.print_model_accuracy()"
   ]
  },
  {
   "cell_type": "markdown",
   "id": "42759bc7",
   "metadata": {},
   "source": [
    "### Result analysis\n",
    "\n",
    "As the model score is slightly better than the cross validation score of the model, we can conclude the model is very slightly worse than expected, as well as that the error rate when using cross validation was higher.\n",
    "\n",
    "In general, the model performs poorly as the scores are low and the error rates are high.\n"
   ]
  },
  {
   "cell_type": "markdown",
   "id": "f4ef5a85",
   "metadata": {},
   "source": [
    "## Q3/4:2 Cross validation on USPS dataset\n"
   ]
  },
  {
   "cell_type": "code",
   "execution_count": 91,
   "id": "913fb336",
   "metadata": {},
   "outputs": [
    {
     "name": "stdout",
     "output_type": "stream",
     "text": [
      "Model score: 0.992831541218638\n",
      "Model error rate: 0.007168458781361964\n",
      "Cross validation score: 0.8637992831541218\n",
      "Cross validation error rate: 0.1362007168458782\n"
     ]
    }
   ],
   "source": [
    "model = svm.SVC()\n",
    "cross_validation_object = CrossValidation(X_zip_train, y_zip_train, model)\n",
    "cross_validation_object.print_model_accuracy()"
   ]
  },
  {
   "cell_type": "markdown",
   "id": "b42d423f",
   "metadata": {},
   "source": [
    "### Result analysis\n",
    "\n",
    "The model score is much higher than the cross validation score. From that we can conclude that the model performed much worse than expected.\n",
    "\n",
    "The model accuracy was high, but when using cross validation to evaluate the score, we can see a significant decrease in the score and increase in the error rate. In general, the model performs poorly, even more so than on the wine dataset, as the scores are low and the error rates are high.\n"
   ]
  },
  {
   "cell_type": "markdown",
   "id": "9e76f87d",
   "metadata": {},
   "source": [
    "## Question 5: Implement pipeline with normalization and SVC\n",
    "\n",
    "Create a pipeline for SVM involving data normalization and SVC, and use grid search and cross-validation to tune parameters C and gamma for the pipeline, avoiding data snooping and data leakage. You may use the scikit-learn class GridSearchCV (along with other scikit-learn classes). Experiment with different ways of doing normalization (such as StandardScaler, MinMaxScaler, RobustScaler, and Normalizer). Which ways are appropriate for either dataset? (The answer, which should be written in your Jupyter notebook, may depend on the results that you obtain for the next task.)\n"
   ]
  },
  {
   "cell_type": "markdown",
   "id": "ea566f02",
   "metadata": {},
   "source": [
    "### 5.1 GridSearch grid\n",
    "\n",
    "We will use grid search and cross-validation to tune two parameters:\n",
    "\n",
    "- C (svc\\_\\_C): Regularization parameter\n",
    "- gamma (svc\\_\\_gamma) - determines flexibility and sensitivity of the model to the training data\n"
   ]
  },
  {
   "cell_type": "code",
   "execution_count": 92,
   "id": "4c60bc71",
   "metadata": {},
   "outputs": [],
   "source": [
    "param_grid_svm = {\n",
    "    \"svc__C\": [0.001, 0.01, 0.1, 1, 10, 100],\n",
    "    \"svc__gamma\": [0.001, 0.01, 0.1, 1, 10, 100],\n",
    "}"
   ]
  },
  {
   "cell_type": "code",
   "execution_count": 93,
   "id": "009f74c5",
   "metadata": {},
   "outputs": [],
   "source": [
    "from sklearn.pipeline import make_pipeline\n",
    "from sklearn.model_selection import GridSearchCV, train_test_split\n",
    "from sklearn.svm import SVC\n",
    "\n",
    "\n",
    "class PipelineObject:\n",
    "    def __init__(self, X_train, y_train, scaler, model, cv=3):\n",
    "        self.X = X_train\n",
    "        self.y = y_train\n",
    "        self.cv = cv\n",
    "        self.pipeline = make_pipeline(scaler, model)\n",
    "\n",
    "    def tune_parameters(self, param_grid):\n",
    "        grid = GridSearchCV(self.pipeline, param_grid, cv=self.cv)\n",
    "        grid.fit(self.X, self.y)\n",
    "        self.pipeline = grid.best_estimator_\n",
    "        return grid.best_estimator_"
   ]
  },
  {
   "cell_type": "markdown",
   "id": "1f7df83e",
   "metadata": {},
   "source": [
    "### Tuning parameters for wine dataset\n"
   ]
  },
  {
   "cell_type": "code",
   "execution_count": 94,
   "id": "57ca9acb",
   "metadata": {},
   "outputs": [
    {
     "name": "stdout",
     "output_type": "stream",
     "text": [
      "Pipeline(steps=[('minmaxscaler', MinMaxScaler()), ('svc', SVC(C=1, gamma=1))])\n"
     ]
    }
   ],
   "source": [
    "from sklearn.preprocessing import MinMaxScaler\n",
    "\n",
    "# Create object\n",
    "wine_pipe = PipelineObject(X_wine_train, y_wine_train, MinMaxScaler(), SVC(), 3)\n",
    "\n",
    "# Set parameter grid\n",
    "param_grid_svm = {\n",
    "    \"svc__C\": [0.001, 0.01, 0.1, 1, 10, 100],\n",
    "    \"svc__gamma\": [0.001, 0.01, 0.1, 1, 10, 100],\n",
    "}\n",
    "\n",
    "# Call function to return best estimator\n",
    "wine_tuned_params = wine_pipe.tune_parameters(param_grid_svm)\n",
    "\n",
    "# Print best estimator\n",
    "print(wine_tuned_params)"
   ]
  },
  {
   "cell_type": "markdown",
   "id": "26cc0aaa",
   "metadata": {},
   "source": [
    "### Tuning parameters for USPS dataset\n"
   ]
  },
  {
   "cell_type": "code",
   "execution_count": 95,
   "id": "54cef886",
   "metadata": {
    "scrolled": true
   },
   "outputs": [
    {
     "name": "stdout",
     "output_type": "stream",
     "text": [
      "USPS Dataset best estimator: Pipeline(steps=[('minmaxscaler', MinMaxScaler()),\n",
      "                ('svc', SVC(C=100, gamma=0.001))])\n"
     ]
    }
   ],
   "source": [
    "# Create object\n",
    "zip_pipe = PipelineObject(X_zip_train, y_zip_train, MinMaxScaler(), SVC(), 3)\n",
    "\n",
    "# Set parameter grid\n",
    "param_grid_svm = {\n",
    "    \"svc__C\": [0.001, 0.01, 0.1, 1, 10, 100],\n",
    "    \"svc__gamma\": [0.001, 0.01, 0.1, 1, 10, 100],\n",
    "}\n",
    "\n",
    "# Call function to return best estimator\n",
    "zip_tuned_params = zip_pipe.tune_parameters(param_grid_svm)\n",
    "\n",
    "# Print best estimator\n",
    "print(f\"USPS Dataset best estimator: {zip_tuned_params}\")"
   ]
  },
  {
   "cell_type": "markdown",
   "id": "a732c9bd",
   "metadata": {},
   "source": [
    "### 5.2 Testing normalization\n",
    "\n",
    "### Testing normalization methods for wine dataset\n"
   ]
  },
  {
   "cell_type": "code",
   "execution_count": 96,
   "id": "3dd9904a",
   "metadata": {},
   "outputs": [
    {
     "name": "stdout",
     "output_type": "stream",
     "text": [
      "StandardScaler() Score: 0.9777777777777777, Test error rare: 2.2222222222222254%\n",
      "Estimator with best params: SVC(C=10, gamma=0.1)\n",
      "_____________________________\n",
      "\n",
      "MinMaxScaler() Score: 0.9777777777777777, Test error rare: 2.2222222222222254%\n",
      "Estimator with best params: SVC(C=1, gamma=1)\n",
      "_____________________________\n",
      "\n",
      "RobustScaler() Score: 0.9777777777777777, Test error rare: 2.2222222222222254%\n",
      "Estimator with best params: SVC(C=1, gamma=0.1)\n",
      "_____________________________\n",
      "\n",
      "Normalizer() Score: 0.9333333333333333, Test error rare: 6.666666666666665%\n",
      "Estimator with best params: SVC(C=100, gamma=100)\n",
      "_____________________________\n",
      "\n"
     ]
    }
   ],
   "source": [
    "from sklearn.preprocessing import StandardScaler, MinMaxScaler, RobustScaler, Normalizer\n",
    "\n",
    "normalization_methods = [StandardScaler(), MinMaxScaler(), RobustScaler(), Normalizer()]\n",
    "\n",
    "param_grid_svm = {\n",
    "    \"svc__C\": [0.001, 0.01, 0.1, 1, 10, 100],\n",
    "    \"svc__gamma\": [0.001, 0.01, 0.1, 1, 10, 100],\n",
    "}\n",
    "\n",
    "scores = []\n",
    "\n",
    "for method in normalization_methods:\n",
    "    pipe_object = PipelineObject(X_wine_train, y_wine_train, method, SVC(), 5)\n",
    "    best_estimator = pipe_object.tune_parameters(param_grid_svm)\n",
    "    best_estimator.fit(X_wine_train, y_wine_train)\n",
    "    method_score = best_estimator.score(X_wine_test, y_wine_test)\n",
    "    scores.append(method_score)\n",
    "    print(f\"{method} Score: {method_score}, Test error rare: {(1-method_score)*100}%\")\n",
    "    print(f\"Estimator with best params: {best_estimator.named_steps['svc']}\")\n",
    "    print(\"_____________________________\\n\")"
   ]
  },
  {
   "cell_type": "code",
   "execution_count": 49,
   "id": "3d8ebb50",
   "metadata": {},
   "outputs": [
    {
     "data": {
      "image/png": "[encoded data removed]",
      "text/plain": [
       "<Figure size 640x480 with 1 Axes>"
      ]
     },
     "metadata": {},
     "output_type": "display_data"
    }
   ],
   "source": [
    "import matplotlib.pyplot as plt\n",
    "\n",
    "\n",
    "def plot_bar_graph(data, title, xlabel, ylabel, lower_bound, upper_bound):\n",
    "    plt.bar(data.keys(), data.values())\n",
    "    plt.title(title)\n",
    "    plt.xlabel(xlabel)\n",
    "    plt.ylabel(ylabel)\n",
    "    plt.ylim(lower_bound, upper_bound)\n",
    "    plt.show()\n",
    "\n",
    "\n",
    "scores = {\"Standard\": 0.95, \"MinMax\": 0.95, \"Robust\": 0.95, \"Normalizer\": 0.62}\n",
    "plot_bar_graph(scores, \"Cross-Validation Scores by Scaler\", \"Scaler\", \"Score\", 0, 1)"
   ]
  },
  {
   "cell_type": "markdown",
   "id": "e28db5f5",
   "metadata": {},
   "source": [
    "### Testing Normalization for USPS dataset\n"
   ]
  },
  {
   "cell_type": "code",
   "execution_count": 78,
   "id": "101e8007",
   "metadata": {},
   "outputs": [
    {
     "name": "stdout",
     "output_type": "stream",
     "text": [
      "StandardScaler() Score: 0.9148936170212766, Test error rare: 8.510638297872342%\n",
      "Estimator with best params: SVC(C=10, gamma=0.001)\n",
      "_____________________________\n",
      "\n",
      "MinMaxScaler() Score: 0.9148936170212766, Test error rare: 8.510638297872342%\n",
      "Estimator with best params: SVC(C=10, gamma=0.01)\n",
      "_____________________________\n",
      "\n",
      "RobustScaler() Score: 0.6914893617021277, Test error rare: 30.85106382978723%\n",
      "Estimator with best params: SVC(C=10, gamma=0.001)\n",
      "_____________________________\n",
      "\n",
      "Normalizer() Score: 0.9042553191489362, Test error rare: 9.57446808510638%\n",
      "Estimator with best params: SVC(C=10, gamma=0.1)\n",
      "_____________________________\n",
      "\n"
     ]
    }
   ],
   "source": [
    "from sklearn.preprocessing import StandardScaler, MinMaxScaler, RobustScaler, Normalizer\n",
    "\n",
    "normalization_methods = [StandardScaler(), MinMaxScaler(), RobustScaler(), Normalizer()]\n",
    "\n",
    "param_grid_svm = {\n",
    "    \"svc__C\": [0.001, 0.01, 0.1, 1, 10, 100],\n",
    "    \"svc__gamma\": [0.001, 0.01, 0.1, 1, 10, 100],\n",
    "}\n",
    "\n",
    "scores = []\n",
    "\n",
    "for method in normalization_methods:\n",
    "    pipe_object = PipelineObject(X_zip_train, y_zip_train, method, SVC(), 5)\n",
    "    best_estimator = pipe_object.tune_parameters(param_grid_svm)\n",
    "    best_estimator.fit(X_zip_train, y_zip_train)\n",
    "    method_score = best_estimator.score(X_zip_test, y_zip_test)\n",
    "    scores.append(method_score)\n",
    "    print(f\"{method} Score: {method_score}, Test error rare: {(1-method_score)*100}%\")\n",
    "    print(f\"Estimator with best params: {best_estimator.named_steps['svc']}\")\n",
    "    print(\"_____________________________\\n\")"
   ]
  },
  {
   "cell_type": "code",
   "execution_count": 50,
   "id": "11f61603",
   "metadata": {},
   "outputs": [
    {
     "data": {
      "image/png": "[encoded data removed]",
      "text/plain": [
       "<Figure size 640x480 with 1 Axes>"
      ]
     },
     "metadata": {},
     "output_type": "display_data"
    }
   ],
   "source": [
    "import matplotlib.pyplot as plt\n",
    "\n",
    "\n",
    "def plot_bar_graph(data, title, xlabel, ylabel, lower_bound, upper_bound):\n",
    "    plt.bar(data.keys(), data.values())\n",
    "    plt.title(title)\n",
    "    plt.xlabel(xlabel)\n",
    "    plt.ylabel(ylabel)\n",
    "    plt.ylim(lower_bound, upper_bound)\n",
    "    plt.show()\n",
    "\n",
    "\n",
    "scores = {\"Standard\": 0.914, \"MinMax\": 0.914, \"Robust\": 0.691, \"Normalizer\": 0.904}\n",
    "plot_bar_graph(scores, \"Cross-Validation Scores by Scaler\", \"Scaler\", \"Score\", 0, 1)"
   ]
  },
  {
   "cell_type": "markdown",
   "id": "86cf4e10",
   "metadata": {},
   "source": [
    "### Question 5 analysis\n",
    "\n",
    "In the previous code cell I have created a PipelineObject class that does the following:\n",
    "\n",
    "- instantiates a pipeline object with the model and scaler passed as arguments.\n",
    "- includes a tune_parameters function that tunes parameters C and gamma\n",
    "\n",
    "When creating two instances of the object and calling the tune_parameters function with the datasets for this assignment, we got two different results.\n",
    "\n",
    "For the wine dataset, the parameter tuning function returned parameters C=1, gamma=1 using the MinMax as the scaler. After comparing the different scaling options, all returned similar values with normalizer being the only one performing below 97%. That means that the best model found is using any normalization method other than normalizer and parameters C=1 and gamma=1.\n",
    "\n",
    "For the USPS dataset, the parameter tuning function returned parameters C=10, gamma=0.01 using the MinMax as the scaler. After comparing the different scaling options, all returned similar values with Robust being the only one performing below 90%. That means that the best model found is using standard or minmax normalization methods and parameters C=10 and gamma=0.01.\n"
   ]
  },
  {
   "cell_type": "markdown",
   "id": "d937b049",
   "metadata": {},
   "source": [
    "## Question 6: Find test error rate of best estimators\n",
    "\n",
    "Fit the GridSearchCV object of task 5 to the training set and use it to\n",
    "predict the test labels. Write the resulting test error rate in your Jupyter\n",
    "notebook.\n"
   ]
  },
  {
   "cell_type": "code",
   "execution_count": 47,
   "id": "af2f7931",
   "metadata": {},
   "outputs": [
    {
     "name": "stdout",
     "output_type": "stream",
     "text": [
      "Test error rate of wine dataset: 2.2222222222222254%\n",
      "Test error rate of USPS dataset: 8.510638297872342%\n"
     ]
    }
   ],
   "source": [
    "# Set parameter grid\n",
    "param_grid_svm = {\n",
    "    \"svc__C\": [0.001, 0.01, 0.1, 1, 10, 100],\n",
    "    \"svc__gamma\": [0.001, 0.01, 0.1, 1, 10, 100],\n",
    "}\n",
    "\n",
    "# Create pipelines\n",
    "wine_pipe = PipelineObject(\n",
    "    X_wine_train, y_wine_train, MinMaxScaler(), SVC(), 5\n",
    ").tune_parameters(param_grid_svm)\n",
    "zip_pipe = PipelineObject(\n",
    "    X_zip_train, y_zip_train, MinMaxScaler(), SVC(), 5\n",
    ").tune_parameters(param_grid_svm)\n",
    "\n",
    "\n",
    "wine_pipe.fit(X_wine_train, y_wine_train)\n",
    "zip_pipe.fit(X_zip_train, y_zip_train)\n",
    "\n",
    "predictions_wine = wine_pipe.predict(X_wine_test)\n",
    "predictions_zip = zip_pipe.predict(X_zip_test)\n",
    "\n",
    "print(\n",
    "    f\"Test error rate of wine dataset: {(1 - (np.mean(predictions_wine == y_wine_test)))*100}%\"\n",
    ")\n",
    "print(\n",
    "    f\"Test error rate of USPS dataset: {(1 - (np.mean(predictions_zip == y_zip_test)))*100}%\"\n",
    ")"
   ]
  },
  {
   "cell_type": "markdown",
   "id": "5903def3",
   "metadata": {},
   "source": [
    "# Lab 08 CS3920: Neural nets and SVM\n"
   ]
  },
  {
   "cell_type": "markdown",
   "id": "91d14eb1",
   "metadata": {},
   "source": [
    "## 1 Neural nets\n",
    "\n",
    "We will build a neural net for a 2D classification dataset called two_moons. The dataset consists of two half-moon shapes, with each class consisting of equal numbers of samples. Simple neural networks, of the kind we are studying, are sometimes referred to as multi-layer perceptrons. This is why this model is called MLPClassifier in scikit-learn.\n"
   ]
  },
  {
   "cell_type": "code",
   "execution_count": null,
   "id": "b26f85b3",
   "metadata": {},
   "outputs": [
    {
     "data": {
      "text/plain": [
       "Text(0, 0.5, 'Feature 1')"
      ]
     },
     "execution_count": 45,
     "metadata": {},
     "output_type": "execute_result"
    },
    {
     "data": {
      "image/png": "[encoded data removed]",
      "text/plain": [
       "<Figure size 640x480 with 1 Axes>"
      ]
     },
     "metadata": {},
     "output_type": "display_data"
    }
   ],
   "source": [
    "from sklearn.neural_network import MLPClassifier\n",
    "from sklearn.datasets import make_moons\n",
    "from sklearn.model_selection import train_test_split\n",
    "import mglearn\n",
    "import matplotlib.pyplot as plt\n",
    "%matplotlib inline\n",
    "X,y = make_moons(n_samples=100, noise=0.25, random_state=2708)\n",
    "X_train, X_test, y_train, y_test = train_test_split(X, y, random_state=2708)\n",
    "\n",
    "mlp = MLPClassifier(solver='lbfgs', activation='tanh', random_state=2708, hidden_layer_sizes=[10]).fit(X_train,y_train)\n",
    "\n",
    "mglearn.plots.plot_2d_separator(mlp, X_train, fill=True, alpha=.3)\n",
    "mglearn.discrete_scatter(X_train[:,0], X_train[:,1], y_train)\n",
    "plt.xlabel(\"Feature 0\")\n",
    "plt.ylabel(\"Feature 1\")"
   ]
  },
  {
   "cell_type": "markdown",
   "id": "a8af708b",
   "metadata": {},
   "source": [
    "# Question 7: Conformal predictor\n"
   ]
  },
  {
   "cell_type": "markdown",
   "id": "86d8075a",
   "metadata": {},
   "source": [
    "## 7.1 Conformal predictor for wine dataset\n"
   ]
  },
  {
   "cell_type": "code",
   "execution_count": 70,
   "id": "3c292e5e",
   "metadata": {},
   "outputs": [
    {
     "name": "stdout",
     "output_type": "stream",
     "text": [
      "Error rates: 0.25857142857142856\n",
      "Minimum error rate: 0.0\n",
      "Average p-value: 0.7361929603158228\n"
     ]
    }
   ],
   "source": [
    "from sklearn.model_selection import KFold\n",
    "\n",
    "kfold = KFold(n_splits=5, random_state=2708, shuffle=True)\n",
    "\n",
    "param_grid = {\n",
    "    \"C\": [0.001, 0.01, 0.1, 1, 10, 100],\n",
    "    \"gamma\": [0.001, 0.01, 0.1, 1, 10, 100],\n",
    "}\n",
    "\n",
    "for train_index, test_index in kfold.split(X_wine):\n",
    "    # split wine dataset into training and test sets\n",
    "    X_train, X_test = X_wine[train_index], X_wine[test_index]\n",
    "    y_train, y_test = y_wine[train_index], y_wine[test_index]\n",
    "\n",
    "    # use grid search to tune params\n",
    "    svm = SVC(probability=True)\n",
    "    grid_search = GridSearchCV(svm, param_grid, cv=5)\n",
    "    grid_search.fit(X_train, y_train)\n",
    "\n",
    "# compute predicted probs for each sample in the test set\n",
    "predicted_probs = grid_search.best_estimator_.predict_proba(X_test)\n",
    "\n",
    "# compute conformity scores for each test sample\n",
    "conformity_scores: list[float] = []\n",
    "for index, element in enumerate(X_test):\n",
    "    probs = predicted_probs[index]\n",
    "    conformity_score = max(probs)\n",
    "    conformity_scores.append(conformity_score)\n",
    "\n",
    "# compute the error rates for different significance levels\n",
    "error_rates = []\n",
    "significance_levels = []\n",
    "for significance_level in np.arange(0, 1, 0.01):\n",
    "    count = 0\n",
    "    # compute the number of conformity scores in the test set that are less than the significance level\n",
    "    for conformity_score in conformity_scores:\n",
    "        if conformity_score < significance_level:\n",
    "            count += 1\n",
    "\n",
    "    # error rate = count / len_of_test_set\n",
    "    error_rate = count / len(X_test)\n",
    "    error_rates.append(error_rate)\n",
    "    significance_levels.append(significance_level)\n",
    "\n",
    "print(\"Error rates:\", np.mean(error_rates))\n",
    "print(\"Minimum error rate:\", min(error_rates))\n",
    "print(\"Average p-value:\", sum(conformity_scores) / len(conformity_scores))"
   ]
  }
 ],
 "metadata": {
  "kernelspec": {
   "display_name": "Python 3 (ipykernel)",
   "language": "python",
   "name": "python3"
  },
  "language_info": {
   "codemirror_mode": {
    "name": "ipython",
    "version": 3
   },
   "file_extension": ".py",
   "mimetype": "text/x-python",
   "name": "python",
   "nbconvert_exporter": "python",
   "pygments_lexer": "ipython3",
   "version": "3.11.5"
  }
 },
 "nbformat": 4,
 "nbformat_minor": 5
}
